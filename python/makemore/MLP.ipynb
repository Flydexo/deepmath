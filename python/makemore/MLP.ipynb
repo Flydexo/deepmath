{
 "cells": [
  {
   "cell_type": "markdown",
   "metadata": {},
   "source": [
    "# [Paper](https://www.jmlr.org/papers/volume3/bengio03a/bengio03a.pdf)"
   ]
  },
  {
   "cell_type": "code",
   "execution_count": 335,
   "metadata": {},
   "outputs": [],
   "source": [
    "import torch\n",
    "import torch.nn.functional as F\n",
    "import matplotlib.pyplot as plt\n",
    "import csv\n",
    "%matplotlib inline"
   ]
  },
  {
   "cell_type": "code",
   "execution_count": 336,
   "metadata": {},
   "outputs": [],
   "source": [
    "names = set()\n",
    "with open(\"names.csv\", \"r\") as csvfile:\n",
    "     csvreader = csv.reader(csvfile)\n",
    "     for row in csvreader:\n",
    "        name = row[0].split(\";\")[1]\n",
    "        if name[0] != \"_\":\n",
    "            names.add(name)"
   ]
  },
  {
   "cell_type": "code",
   "execution_count": 337,
   "metadata": {},
   "outputs": [],
   "source": [
    "alphabet = set()\n",
    "for name in names:\n",
    "    for l in name:\n",
    "        alphabet.add(l)\n",
    "N = len(alphabet)+1\n",
    "stoi = {i:k+1 for k,i in enumerate(alphabet)}\n",
    "stoi['.'] = 0\n",
    "itos = {k:i for i,k in stoi.items()}"
   ]
  },
  {
   "cell_type": "code",
   "execution_count": 338,
   "metadata": {},
   "outputs": [],
   "source": [
    "block_size = 3\n",
    "def build_dataset(names):\n",
    "    X, Y = [], []\n",
    "    for name in names:\n",
    "        context = [0]*block_size\n",
    "        for ch in name + '.':\n",
    "            ix = stoi[ch]\n",
    "            X.append(context)\n",
    "            Y.append(ix)\n",
    "            context = context[1:] + [ix]\n",
    "    return torch.tensor(X),torch.tensor(Y)\n",
    "\n",
    "names = list(names)\n",
    "import random\n",
    "random.shuffle(names)\n",
    "Xtrain, Ytrain = build_dataset(names[:int(0.9*len(names))])\n",
    "Xtest, Ytest = build_dataset(names[int(0.9*len(names)):])"
   ]
  },
  {
   "cell_type": "code",
   "execution_count": 344,
   "metadata": {},
   "outputs": [],
   "source": [
    "L0 = torch.randn((52, 20))\n",
    "W1 =  torch.randn((60, 300))\n",
    "B1 = torch.randn(300)\n",
    "W2 = torch.randn((300, 52))\n",
    "B2 = torch.randn(52)\n",
    "parameters = [L0, W1, B1, W2, B2]\n",
    "for p in parameters:\n",
    "    p.requires_grad = True"
   ]
  },
  {
   "cell_type": "code",
   "execution_count": 345,
   "metadata": {},
   "outputs": [],
   "source": [
    "lossi = []\n",
    "stepi = []"
   ]
  },
  {
   "cell_type": "code",
   "execution_count": 350,
   "metadata": {},
   "outputs": [
    {
     "name": "stdout",
     "output_type": "stream",
     "text": [
      "1.9189684391021729\n",
      "2.19647479057312\n"
     ]
    },
    {
     "data": {
      "text/plain": [
       "[<matplotlib.lines.Line2D at 0x329d06230>]"
      ]
     },
     "execution_count": 350,
     "metadata": {},
     "output_type": "execute_result"
    },
    {
     "data": {
      "image/png": "[encoded data removed]",
      "text/plain": [
       "<Figure size 640x480 with 1 Axes>"
      ]
     },
     "metadata": {},
     "output_type": "display_data"
    }
   ],
   "source": [
    "for i in range(100000):\n",
    "    ix = torch.randint(0, Xtrain.shape[0], (32,))\n",
    "    h = (L0[Xtrain[ix]].view(-1,60) @ W1 + B1).tanh()\n",
    "    logits = h @ W2 + B2\n",
    "    loss = F.cross_entropy(logits, Ytrain[ix])\n",
    "    for p in parameters:\n",
    "        p.grad = None\n",
    "    loss.backward()\n",
    "    lossi.append(loss.log10().item())\n",
    "    stepi.append(i)\n",
    "    for p in parameters:\n",
    "        p.data += -0.01*p.grad\n",
    "\n",
    "print(loss.item()) \n",
    "print(F.cross_entropy((L0[Xtest].view(-1,60) @ W1 + B1).tanh() @ W2 + B2, Ytest).item())\n",
    "plt.plot(stepi, lossi)"
   ]
  },
  {
   "cell_type": "markdown",
   "metadata": {},
   "source": [
    "# Samples"
   ]
  },
  {
   "cell_type": "code",
   "execution_count": 351,
   "metadata": {},
   "outputs": [
    {
     "name": "stdout",
     "output_type": "stream",
     "text": [
      "EYLOUIS-MARIENELSEM.\n",
      "JOEDEN.\n",
      "ERGENICORYAN.\n",
      "JAIE.\n",
      "EDMILIANSA.\n",
      "ZEPHIM.\n",
      "ILA.\n",
      "SENDDLO.\n",
      "JOSIA.\n",
      "ILIE.\n",
      "SCHARITZEL.\n",
      "LYA.\n",
      "RYMA.\n",
      "RALILIDA.\n",
      "GHILIYA.\n",
      "PIERREL.\n",
      "JEZEKELINA.\n",
      "CHRISLAWEEN.\n",
      "SWEMBI.\n",
      "AIUS.\n"
     ]
    }
   ],
   "source": [
    "@torch.no_grad()\n",
    "def sample():\n",
    "    for _ in range(20):\n",
    "        out = []\n",
    "        context = [0]*block_size\n",
    "        while True:\n",
    "            emb = L0[torch.tensor(context)]\n",
    "            h = (emb.view(1, -1) @ W1 + B1).tanh()\n",
    "            logits = h @ W2 + B2\n",
    "            probs = F.softmax(logits, dim=1)\n",
    "            ix = torch.multinomial(probs, 1).item()\n",
    "            context = context[1:] + [ix]\n",
    "            out.append(ix)\n",
    "            if ix == 0:\n",
    "                break\n",
    "        print(''.join(itos[c] for c in out))"
   ]
  },
  {
   "cell_type": "code",
   "execution_count": 352,
   "metadata": {},
   "outputs": [
    {
     "data": {
      "text/plain": [
       "tensor(3.9512)"
      ]
     },
     "execution_count": 352,
     "metadata": {},
     "output_type": "execute_result"
    }
   ],
   "source": [
    "-torch.tensor(1/52.0).log()"
   ]
  }
 ],
 "metadata": {
  "kernelspec": {
   "display_name": "deepmath",
   "language": "python",
   "name": "python3"
  },
  "language_info": {
   "codemirror_mode": {
    "name": "ipython",
    "version": 3
   },
   "file_extension": ".py",
   "mimetype": "text/x-python",
   "name": "python",
   "nbconvert_exporter": "python",
   "pygments_lexer": "ipython3",
   "version": "3.10.16"
  }
 },
 "nbformat": 4,
 "nbformat_minor": 2
}
